{
 "cells": [
  {
   "cell_type": "code",
   "execution_count": 1,
   "id": "04cf0e52",
   "metadata": {},
   "outputs": [],
   "source": [
    "#import random numbers\n",
    "import random"
   ]
  },
  {
   "cell_type": "code",
   "execution_count": 2,
   "id": "89b42bc0",
   "metadata": {},
   "outputs": [
    {
     "data": {
      "text/plain": [
       "-46"
      ]
     },
     "execution_count": 2,
     "metadata": {},
     "output_type": "execute_result"
    }
   ],
   "source": [
    "random.randint(-90, 90)"
   ]
  },
  {
   "cell_type": "code",
   "execution_count": 3,
   "id": "56c630cc",
   "metadata": {},
   "outputs": [
    {
     "data": {
      "text/plain": [
       "0.8504853683693498"
      ]
     },
     "execution_count": 3,
     "metadata": {},
     "output_type": "execute_result"
    }
   ],
   "source": [
    "random.random()"
   ]
  },
  {
   "cell_type": "code",
   "execution_count": 6,
   "id": "ad4a965c",
   "metadata": {},
   "outputs": [
    {
     "data": {
      "text/plain": [
       "-50.27028074259819"
      ]
     },
     "execution_count": 6,
     "metadata": {},
     "output_type": "execute_result"
    }
   ],
   "source": [
    "random_number = random.randint(-90, 89) + random.random()\n",
    "random_number"
   ]
  },
  {
   "cell_type": "code",
   "execution_count": 9,
   "id": "a756f41a",
   "metadata": {},
   "outputs": [
    {
     "data": {
      "text/plain": [
       "[-21.472187181257546,\n",
       " -66.42862734677034,\n",
       " 24.283838568719187,\n",
       " -30.817410289005522,\n",
       " -81.6789664785314,\n",
       " 33.76224588424304,\n",
       " -20.042036129020726,\n",
       " 2.552046071674614,\n",
       " -68.58496052740217,\n",
       " 18.574948155589773]"
      ]
     },
     "execution_count": 9,
     "metadata": {},
     "output_type": "execute_result"
    }
   ],
   "source": [
    "x = 1\n",
    "latitudes = []\n",
    "while x < 11:\n",
    "    random_lat = random.randint(-90, 89) + random.random()\n",
    "    latitudes.append(random_lat)\n",
    "    x += 1\n",
    "    \n",
    "latitudes"
   ]
  },
  {
   "cell_type": "code",
   "execution_count": 14,
   "id": "4c155d42",
   "metadata": {},
   "outputs": [
    {
     "data": {
      "text/plain": [
       "9"
      ]
     },
     "execution_count": 14,
     "metadata": {},
     "output_type": "execute_result"
    }
   ],
   "source": [
    "random.randrange(-90, 90, step=3)"
   ]
  },
  {
   "cell_type": "code",
   "execution_count": 15,
   "id": "5c3fe4e9",
   "metadata": {},
   "outputs": [
    {
     "data": {
      "text/plain": [
       "21.78571294656487"
      ]
     },
     "execution_count": 15,
     "metadata": {},
     "output_type": "execute_result"
    }
   ],
   "source": [
    "random.uniform(-90, 90)"
   ]
  },
  {
   "cell_type": "code",
   "execution_count": 19,
   "id": "294e6011",
   "metadata": {},
   "outputs": [],
   "source": [
    "# Import the NumPy module\n",
    "\n",
    "import numpy as np"
   ]
  },
  {
   "cell_type": "code",
   "execution_count": 20,
   "id": "1d64fc1e",
   "metadata": {},
   "outputs": [
    {
     "data": {
      "text/plain": [
       "75.50441298435513"
      ]
     },
     "execution_count": 20,
     "metadata": {},
     "output_type": "execute_result"
    }
   ],
   "source": [
    "np.random.uniform(-90.000, 90.000)"
   ]
  },
  {
   "cell_type": "code",
   "execution_count": 21,
   "id": "e7f32ae6",
   "metadata": {},
   "outputs": [
    {
     "data": {
      "text/plain": [
       "array([ -4.18600624,  61.1151995 , -30.75133073,   4.1756967 ,\n",
       "        55.83287418,   5.17206042,  75.05240665, -52.89102504,\n",
       "       -34.10475394,  73.83669673, -69.87574369,   9.38577223,\n",
       "       -17.93172824, -70.50787819, -57.56000073,  49.07112076,\n",
       "        34.79085168, -11.61321778,  25.4181065 ,  26.07229056,\n",
       "       -37.65054413, -42.67008857,  50.33925146,  70.01897774,\n",
       "       -39.71207422,  56.85728604, -49.11587329, -30.59021054,\n",
       "        21.55579819,  82.64934086, -65.44186784,  78.31384343,\n",
       "        61.66695378, -12.44220966,  -8.9421727 ,  53.40957124,\n",
       "       -30.45420615,  70.16015635,  21.92647752,  60.57249662,\n",
       "       -29.41576488,  15.67789924, -36.07777791,  46.99892878,\n",
       "        66.73759995,  10.45382289, -12.32519185, -79.69173121,\n",
       "         4.70341723,   1.47461009])"
      ]
     },
     "execution_count": 21,
     "metadata": {},
     "output_type": "execute_result"
    }
   ],
   "source": [
    "np.random.uniform(-90.000, 90.000, size=50)"
   ]
  },
  {
   "cell_type": "code",
   "execution_count": 22,
   "id": "a2cae5dc",
   "metadata": {},
   "outputs": [],
   "source": [
    "# import timeit.\n",
    "\n",
    "import timeit"
   ]
  },
  {
   "cell_type": "code",
   "execution_count": 23,
   "id": "007af2f8",
   "metadata": {},
   "outputs": [
    {
     "name": "stdout",
     "output_type": "stream",
     "text": [
      "75.8 µs ± 1.06 µs per loop (mean ± std. dev. of 7 runs, 10000 loops each)\n"
     ]
    }
   ],
   "source": [
    "%timeit np.random.uniform(-90.000, 90.000, size=15000)"
   ]
  },
  {
   "cell_type": "code",
   "execution_count": 24,
   "id": "357ec579",
   "metadata": {},
   "outputs": [
    {
     "name": "stdout",
     "output_type": "stream",
     "text": [
      "1.24 ms ± 14.7 µs per loop (mean ± std. dev. of 7 runs, 1000 loops each)\n"
     ]
    }
   ],
   "source": [
    "# create latitudes list using random, not np\n",
    "\n",
    "def latitudes(size):\n",
    "    latitudes = []\n",
    "    x = 0\n",
    "    while x < (size):\n",
    "        random_lat = random.randint(-90, 90) + random.random()\n",
    "        latitudes.append(random_lat)\n",
    "        x +=1\n",
    "    return latitudes\n",
    "# Call the function with 1500\n",
    "\n",
    "%timeit latitudes(1500)"
   ]
  },
  {
   "cell_type": "code",
   "execution_count": null,
   "id": "407cfb9d",
   "metadata": {},
   "outputs": [],
   "source": []
  }
 ],
 "metadata": {
  "kernelspec": {
   "display_name": "PythonData",
   "language": "python",
   "name": "pythondata"
  },
  "language_info": {
   "codemirror_mode": {
    "name": "ipython",
    "version": 3
   },
   "file_extension": ".py",
   "mimetype": "text/x-python",
   "name": "python",
   "nbconvert_exporter": "python",
   "pygments_lexer": "ipython3",
   "version": "3.7.15"
  }
 },
 "nbformat": 4,
 "nbformat_minor": 5
}
